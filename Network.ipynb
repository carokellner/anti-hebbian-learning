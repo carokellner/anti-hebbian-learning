{
 "cells": [
  {
   "cell_type": "code",
   "execution_count": 1,
   "metadata": {},
   "outputs": [],
   "source": [
    "# Network class\n",
    "import numpy as np\n",
    "from keras.datasets import mnist"
   ]
  },
  {
   "cell_type": "code",
   "execution_count": null,
   "metadata": {},
   "outputs": [],
   "source": [
    "# number of inputs neurons\n",
    "# number of output neurons\n",
    "# excitatory feedforward connections from input to output (init random)\n",
    "# inhibitory connections between output neurons (init 0)"
   ]
  },
  {
   "cell_type": "code",
   "execution_count": null,
   "metadata": {},
   "outputs": [],
   "source": [
    "# learning step\n",
    "# "
   ]
  },
  {
   "cell_type": "code",
   "execution_count": null,
   "metadata": {},
   "outputs": [],
   "source": [
    "class Hebb_Network():\n",
    "    \n",
    "    def __init__(self, n_input, n_output, alpha=0.01, beta=0.001, gamma=0.01, lam=10, p=0.1, training_steps):\n",
    "        self.n_input = n_input\n",
    "        self.n_output = n_output\n",
    "        self.alpha = alpha\n",
    "        self.beta = beta\n",
    "        self.gamma = gamma\n",
    "        self.lam = lam\n",
    "        self.p = p\n",
    "        self.training_steps = training_steps\n",
    "        \n",
    "        # size = (rows, columns)\n",
    "        self.ff_weights = np.random_uniform(low=0., high=1., size=(n_output, n_input))\n",
    "        self.ff_weights = self.ff_weights / self.ff_weights.sum(axis=1)\n",
    "        \n",
    "        self.fb_weights = np.zeros(shape=(n_output, n_output))\n",
    "        \n",
    "        self.thresholds = np.random_uniform(low=0., high=1. size=(n_output, 1)\n",
    "                                            \n",
    "    \n",
    "    def sigmoid(self, x):\n",
    "        return 1/(1 + np.exp(-self.lam * x))\n",
    "                                            \n",
    "    def update_weights(self, x, y):\n",
    "        # anti-Hebbian inhibitory weights\n",
    "        # create transposed vector\n",
    "        yt = y[:, np.newaxis]\n",
    "        # compute change in weights\n",
    "        del_w = -self.alpha * (y*yt - np.power(self.p, 2))\n",
    "        # apply weights\n",
    "        self.fb_weights += del_w\n",
    "        \n",
    "        # constrain weights to negative and diagonal to 0\n",
    "        self.fb_weights[self.fb_weights > 0] = 0\n",
    "        for i in range(self.fb_weights.shape[0]):\n",
    "            self.fb_weights[i, i] = 0\n",
    "                                            \n",
    "        # Hebbian excitatory weights\n",
    "        del_q = self.beta * y * (x - self.ff_weights)\n",
    "        self.ff_weights += del_q\n",
    "                                            \n",
    "        # threshold modification\n",
    "        del_t = self.gamma * (y - p)  \n",
    "        self.thresholds += del_t\n",
    "        \n",
    "    \n",
    "    def train(self, x):\n",
    "        for _ in range(self.training_steps):\n",
    "            output = self.predict(x)\n",
    "            self.update_weights(x, output)\n",
    "                                    \n",
    "                                            \n",
    "    def predict(self, x):\n",
    "        qx = np.dot(self.ff_weights, x)\n",
    "        # activations of representation units\n",
    "        y = np.zeros(self.n_output)\n",
    "        for _ in range(100):\n",
    "            wy = np.dot(self.fb_weights, y)\n",
    "            dydt = qx + wy - self.thresholds\n",
    "            dydt = self.sigmoid(dydt) - y\n",
    "            y += 0.01 * dydt\n",
    "        output = np.zeros(self.n_output)\n",
    "        output[y>0.5] = 1\n",
    "        \n",
    "        return output\n",
    "                                        \n",
    "    \n",
    "        "
   ]
  }
 ],
 "metadata": {
  "kernelspec": {
   "display_name": "tf_env",
   "language": "python",
   "name": "tf_env"
  },
  "language_info": {
   "codemirror_mode": {
    "name": "ipython",
    "version": 3
   },
   "file_extension": ".py",
   "mimetype": "text/x-python",
   "name": "python",
   "nbconvert_exporter": "python",
   "pygments_lexer": "ipython3",
   "version": "3.8.16"
  }
 },
 "nbformat": 4,
 "nbformat_minor": 4
}
